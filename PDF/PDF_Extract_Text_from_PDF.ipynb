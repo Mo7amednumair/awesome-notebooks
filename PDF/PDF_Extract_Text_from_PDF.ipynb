{
 "cells": [
  {
   "cell_type": "markdown",
   "id": "latin-packing",
   "metadata": {
    "execution": {
     "iopub.execute_input": "2021-02-23T14:22:16.610471Z",
     "iopub.status.busy": "2021-02-23T14:22:16.610129Z",
     "iopub.status.idle": "2021-02-23T14:22:16.627784Z",
     "shell.execute_reply": "2021-02-23T14:22:16.626866Z",
     "shell.execute_reply.started": "2021-02-23T14:22:16.610384Z"
    },
    "papermill": {},
    "tags": []
   },
   "source": [
    "<img width=\"10%\" alt=\"Naas\" src=\"https://landen.imgix.net/jtci2pxwjczr/assets/5ice39g4.png?w=160\"/>"
   ]
  },
  {
   "cell_type": "markdown",
   "id": "compressed-wilson",
   "metadata": {
    "papermill": {},
    "tags": []
   },
   "source": [
    "# PDF - Extract Text from\n",
    "<a href=\"https://app.naas.ai/user-redirect/naas/downloader?url=https://raw.githubusercontent.com/jupyter-naas/awesome-notebooks/master/PDF/PDF_Extract_Text_from_PDF.ipynb\" target=\"_parent\"><img src=\"https://naasai-public.s3.eu-west-3.amazonaws.com/open_in_naas.svg\"/></a><br><br><a href=\"https://github.com/jupyter-naas/awesome-notebooks/issues/new?assignees=&labels=&template=template-request.md&title=Tool+-+Action+of+the+notebook+\">Template request</a> | <a href=\"https://github.com/jupyter-naas/awesome-notebooks/issues/new?assignees=&labels=bug&template=bug_report.md&title=PDF+-+Extract+Text+from:+Error+short+description\">Bug report</a>"
   ]
  },
  {
   "cell_type": "markdown",
   "id": "religious-programmer",
   "metadata": {
    "papermill": {},
    "tags": []
   },
   "source": [
    "**Tags:** #pdf #extract #snippet #operations #text"
   ]
  },
  {
   "cell_type": "markdown",
   "id": "1fe9f56e-561c-4f52-aef8-b861c9462107",
   "metadata": {
    "papermill": {},
    "tags": []
   },
   "source": [
    "**Author:** [Minura Punchihewa](https://www.linkedin.com/in/minurapunchihewa/)"
   ]
  },
  {
   "cell_type": "markdown",
   "id": "naas-description",
   "metadata": {
    "papermill": {},
    "tags": [
     "description"
    ]
   },
   "source": [
    "**Description:** This notebook provides a way to extract text from PDF files."
   ]
  },
  {
   "cell_type": "markdown",
   "id": "distinguished-truth",
   "metadata": {
    "papermill": {},
    "tags": []
   },
   "source": [
    "## Input"
   ]
  },
  {
   "cell_type": "markdown",
   "id": "numeric-mediterranean",
   "metadata": {
    "papermill": {},
    "tags": []
   },
   "source": [
    "### Import libraries"
   ]
  },
  {
   "cell_type": "code",
   "execution_count": 18,
   "id": "potential-surfing",
   "metadata": {
    "papermill": {},
    "tags": []
   },
   "outputs": [],
   "source": [
    "import io\n",
    "import requests\n",
    "from urllib.parse import urlparse\n",
    "try:\n",
    "    from PyPDF2 import PdfReader\n",
    "except:\n",
    "    %pip install PyPDF2\n",
    "    from PyPDF2 import PdfReader\n",
    "    "
   ]
  },
  {
   "cell_type": "markdown",
   "id": "aggressive-trustee",
   "metadata": {
    "papermill": {},
    "tags": []
   },
   "source": [
    "### Variables"
   ]
  },
  {
   "cell_type": "code",
   "execution_count": 19,
   "id": "46af0552",
   "metadata": {
    "papermill": {},
    "tags": []
   },
   "outputs": [],
   "source": [
    "pdf_file = \"Installation_Guide.pdf\"\n"
   ]
  },
  {
   "cell_type": "markdown",
   "id": "registered-showcase",
   "metadata": {
    "papermill": {},
    "tags": []
   },
   "source": [
    "## Model"
   ]
  },
  {
   "cell_type": "markdown",
   "id": "7eccaab8",
   "metadata": {
    "papermill": {},
    "tags": []
   },
   "source": [
    "### Define function to validate if string is a valid URL"
   ]
  },
  {
   "cell_type": "code",
   "execution_count": 20,
   "id": "6a6a1b3a",
   "metadata": {
    "papermill": {},
    "tags": []
   },
   "outputs": [],
   "source": [
    "def is_url(url):\n",
    "    try:\n",
    "        result = urlparse(url)\n",
    "        return all([result.scheme, result.netloc])\n",
    "    except ValueError:\n",
    "        return False"
   ]
  },
  {
   "cell_type": "markdown",
   "id": "tested-astrology",
   "metadata": {
    "papermill": {},
    "tags": []
   },
   "source": [
    "### Define function to read PDF file"
   ]
  },
  {
   "cell_type": "code",
   "execution_count": 21,
   "id": "crude-louisville",
   "metadata": {
    "papermill": {},
    "tags": []
   },
   "outputs": [],
   "source": [
    "def get_pdf(path):\n",
    "    if is_url(path):\n",
    "        remote_file = requests.get(path).content\n",
    "        memory_file = io.BytesIO(remote_file)\n",
    "        pdf_file = PdfReader(memory_file)\n",
    "    else:\n",
    "        pdf_file_obj = open(path, 'rb')\n",
    "        pdf_file = PdfReader(pdf_file_obj)\n",
    "        \n",
    "    return pdf_file"
   ]
  },
  {
   "cell_type": "markdown",
   "id": "lonely-pacific",
   "metadata": {
    "execution": {
     "iopub.execute_input": "2021-07-02T23:32:10.789097Z",
     "iopub.status.busy": "2021-07-02T23:32:10.788829Z",
     "iopub.status.idle": "2021-07-02T23:32:10.796900Z",
     "shell.execute_reply": "2021-07-02T23:32:10.796358Z",
     "shell.execute_reply.started": "2021-07-02T23:32:10.789033Z"
    },
    "papermill": {},
    "tags": []
   },
   "source": [
    "## Output"
   ]
  },
  {
   "cell_type": "markdown",
   "id": "890f7c86-b7bb-4f5d-9a1b-e492dd9580fd",
   "metadata": {
    "papermill": {},
    "tags": []
   },
   "source": [
    "### Read PDF file and extract text"
   ]
  },
  {
   "cell_type": "code",
   "execution_count": 25,
   "id": "9c4e3b7b-6440-4844-8054-265f1aec65eb",
   "metadata": {
    "papermill": {},
    "tags": []
   },
   "outputs": [],
   "source": [
    "texts = []\n",
    "pdf_reader = get_pdf(pdf_file)    \n",
    "\n",
    "for page_num in range(len(pdf_reader.pages)):\n",
    "    page_obj = pdf_reader.pages[page_num]\n",
    "    texts.append(page_obj.extract_text())"
   ]
  },
  {
   "cell_type": "markdown",
   "id": "b1309001",
   "metadata": {
    "papermill": {},
    "tags": []
   },
   "source": [
    "### Display text"
   ]
  },
  {
   "cell_type": "code",
   "execution_count": 26,
   "id": "1241063a-8bce-4d59-9044-e79691f1a8c8",
   "metadata": {
    "papermill": {},
    "tags": []
   },
   "outputs": [
    {
     "name": "stdout",
     "output_type": "stream",
     "text": [
      "Deep Neural Networks are Easily Fooled:\n",
      "High Confidence Prediction for Unrecognizable ImagesInstallation Guide\n",
      "Updated 2015-01-13\n",
      "INSTALLATION GUIDE\n",
      "A. Overview\n",
      "This guide shows how to run the code used to produce the images in our paper: \n",
      "http://www.evolvingai.org/fooling\n",
      "B. Requirements\n",
      "Software:\n",
      "This is an installation process that requires two main software packages (included in this package):\n",
      "•Caffe: http://caffe.berkeleyvision.org\n",
      "◦Our libraries installed to work with Caffe\n",
      "▪Cuda 6.0\n",
      "▪Boost 1.52\n",
      "•Sferes: https://github.com/jbmouret/sferes2\n",
      "◦Our libraries installed to work with Caffe\n",
      "▪OpenCV 2.4.10\n",
      "▪Boost 1.52\n",
      "Computing Environment:\n",
      "•An MNIST experiment (Fig. 4, 5 in the paper) can be run directly on a local machine (4-core) \n",
      "within a reasonable amount of time (around 5 minutes or less for 200 generations) \n",
      "•An ImageNet experiment needs to be run on a cluster environment. It took us 4 days x 128 \n",
      "cores to run 5000 generations and produce 1000 images (Fig. 8 in the paper).\n",
      "C. Installation\n",
      "1.Install Caffe and its required libraries.\n",
      "◦The specific version provided is different from the Caffe master branch and it has the \n",
      "modification that enables feeding OpenCV data from memory to a Caffe model for \n",
      "evaluation via ImageDataLayer.\n",
      "◦Caffe installation guide: http://caffe.berkeleyvision.org/installation.html\n",
      "2.Find a model you want to “fool” or train one yourself. We used the BVLC CaffeNet model \n",
      "provided by Caffe.\n",
      "◦See the list of models here.\n",
      "◦Make sure that it is running and gives you validation / test errors as expected.\n",
      "3.Install Sferes and its required libraries:\n",
      "◦The specific Sferes version provided has all the modules needed to run the experiment \n",
      "and is very similar to (but not the same as) the Sferes master branch.\n",
      "◦Sferes installation guide: https://github.com/jbmouret/sferes2/wiki/Compilation\n",
      "4.Linking Caffe and Sferes:\n",
      "◦Our code already does the linking between Caffe and Sferes:\n",
      "1Deep Neural Networks are Easily Fooled:\n",
      "High Confidence Prediction for Unrecognizable ImagesInstallation Guide\n",
      "Updated 2015-01-13\n",
      "▪Sending an image in memory (OpenCV::Mat) to Caffe for evaluation\n",
      "▪Get the output confidence scores from the Caffe model for that image\n",
      "▪See ./sferes/exp/images/fit/fit_map_deep_learning.hpp\n",
      "◦Install the Caffe libraries\n",
      "▪Install the Caffe library (caffe.so and caffe.a) and its headers so that Sferes can find \n",
      "it for compilation.\n",
      "•You can refer to ./sferes/install_caffe.sh  to see how we install it on our system.\n",
      "▪Modify Sferes waf configuration file according to your system\n",
      "•In file: ./sferes/exp/images/wscript\n",
      "•Make sure that the path in obj.includes = points to the correct locations  \n",
      "5.Compile a Sferes experiment:\n",
      "◦Our Sferes experiments for the paper are located in the ./sferes/exp/images  folder\n",
      "◦Update the experiment config to compile an experiment:\n",
      "▪In file: ./sferes/exp/images/wscript\n",
      "▪Modify the field obj.source = to a file name in the experiment folder\n",
      "◦Make sure that the code compiles correctly with waf:\n",
      "▪waf -- configure …  \n",
      "•see ./sferes/build.sh for example parameters we used on our system\n",
      "▪waf build\n",
      "▪waf -- exp images\n",
      "▪This is the result of our working waf -- configure for your reference\n",
      "WARNING simplejson not found some function may not work \n",
      "module : [modules/nn2] \n",
      "module : [modules/map_elite] \n",
      "Check for program g++ or c++             : /usr/bin/g++ \n",
      "Check for program cpp                    : /usr/bin/cpp \n",
      "Check for program ar                     : /usr/bin/ar \n",
      "Check for program ranlib                 : /usr/bin/ranlib \n",
      "Checking for g++                         : ok  \n",
      "boost headers                            : Version 1_52 (/home/anh/src/sferes/include) \n",
      "library boost_serialization              : ok \n",
      "library boost_filesystem                 : ok \n",
      "library boost_system                     : ok \n",
      "library boost_unit_test_framework        : ok \n",
      "library boost_program_options            : ok \n",
      "library boost_graph                      : ok \n",
      "library boost_mpi                        : ok \n",
      "library boost_python                     : ok \n",
      "library boost_thread                     : ok \n",
      "Checking for header tbb/parallel_for.h   : not found \n",
      "2Deep Neural Networks are Easily Fooled:\n",
      "High Confidence Prediction for Unrecognizable ImagesInstallation Guide\n",
      "Updated 2015-01-13\n",
      "Checking for header tbb/parallel_for.h   : not found \n",
      "Checking for header mpi.h                : ok /usr/include/mpi \n",
      "Checking for SDL (optional)              : not found \n",
      "Checking for header Eigen/Core           : ok /home/anh/src/sferes/include \n",
      "Check for program ode-config             : not found \n",
      "Checking for ODE (optional)              : not found \n",
      "Checking for GSL (optional)              : not found \n",
      "6.List of experiment to reproduce :\n",
      "◦Direct Encoding (section 3.1 and 3.3 in the paper)\n",
      "▪MNIST: dl_map_elites_images_mnist_direct_encoding.cpp\n",
      "▪ImageNet: dl_map_elites_images_imagenet_direct_encoding.cpp\n",
      "◦Indirect Encoding (section 3.2 and 3.4 in the paper)\n",
      "▪MNIST: dl_map_elites_images_mnist.cpp\n",
      "▪ImageNet: dl_map_elites_images.cpp\n",
      "7.Configure the experiment in the cpp file:\n",
      "◦After selecting an experiment and compiling successfully, now configure it as you want.\n",
      "◦File ./sferes/exp/images/dl_images.hpp  contains generic parameters which are by default  \n",
      "in inherited (and can be overwritten) by the experiments:\n",
      "▪Params::image::size  : size of the images to evolve (default to 256)\n",
      "▪Params::image::crop_size :  crop size according to Caffe config (default to 227)\n",
      "▪Params::image::use_crops  : use crop or not. \n",
      "•True: Use 10 crops \n",
      "•False: Use 1 center crop\n",
      "▪Params::image::color  : True/False for MNIST grayscale or ImageNet color images.\n",
      "▪Params::image::num_categories : default to 1000 corresponding to 1000 ImageNet \n",
      "categories. Change to 10 for MNIST.\n",
      "•Note: in the experiment cpp file also update Params::ea::res_y to be equal to the \n",
      "num_categories unless you know MAP-Elites really well to experiment \n",
      "differently.\n",
      "◦In the experiment cpp file (e.g. dl_map_elites_images.cpp ):\n",
      "▪Params::pop::nb_gen  : the number of generations to run.\n",
      "▪Params::pop::size : the number of population\n",
      "▪Params::image::model_definition  : path to the prototxt file used by your model\n",
      "•See the example prototxt file\n",
      "▪Params::image::pretrained_model  : path to your model\n",
      "▪Params::pop::dump_period  : how frequently your images will be printed out\n",
      "▪To run on cluster with MPI, uncomment this line\n",
      "•typedef eval::MpiParallel<Params> eval_t;\n",
      "▪To run locally on a single core, uncomment this line, and comment out the above\n",
      "3Deep Neural Networks are Easily Fooled:\n",
      "High Confidence Prediction for Unrecognizable ImagesInstallation Guide\n",
      "Updated 2015-01-13\n",
      "•typedef eval::Eval<Params> eval_t;\n",
      "8.Test running your experiment:\n",
      "◦The binary will be located in the directories:\n",
      "▪./sferes/default/exp/images\n",
      "▪./sferes/debug/exp/images\n",
      "◦If running locally, you can test running this binary directly and the result will be written \n",
      "in a newly created directory: “ mmm” (i.e. ./sferes/mmm/)\n",
      "▪The fitness or confidence score of the champions in each generation will be written \n",
      "in the archive_x.dat (e.g., for generation 235, see ./sferes/mmm/archive_235.dat ).\n",
      "•The first column is the category index\n",
      "•The second column is the fitness\n",
      "▪Images are stored in ./sferes/mmm/map_gen_x  (e.g., for generation 236, see \n",
      "./sferes/mmm/map_gen_236 ).\n",
      "9.To run on a cluster\n",
      "◦We use 128 cores usually to run ImageNet experiments.\n",
      "◦If you need help configuring, consult the file : ./sferes/submit_jobs.py . This is how we \n",
      "schedule jobs on a cluster environment.\n",
      "10.Caffe version\n",
      "◦Our particular Caffe version requires a dummy source parameter in the prototxt in order \n",
      "to initialize the input data blobs at the IMAGE_DATA layer properly. \n",
      "▪Please refer to the ./model directory on how we configure the prototxt\n",
      "◦The batch size in the prototxt file is default to 10 as we use 10 crops per evaluation.\n",
      "For specific Sferes or Caffe questions, please see their github pages or Google groups.\n",
      "For other questions regarding these experiments from our paper, please don't hesitate to ask. :)\n",
      "Cheers,\n",
      "4\n"
     ]
    }
   ],
   "source": [
    "extract_texts = \"\".join(texts)\n",
    "print(extract_texts)"
   ]
  }
 ],
 "metadata": {
  "kernelspec": {
   "display_name": "Python 3",
   "language": "python",
   "name": "python3"
  },
  "language_info": {
   "codemirror_mode": {
    "name": "ipython",
    "version": 3
   },
   "file_extension": ".py",
   "mimetype": "text/x-python",
   "name": "python",
   "nbconvert_exporter": "python",
   "pygments_lexer": "ipython3",
   "version": "3.11.2"
  },
  "papermill": {
   "default_parameters": {},
   "environment_variables": {},
   "parameters": {},
   "version": "2.3.3"
  },
  "widgets": {
   "application/vnd.jupyter.widget-state+json": {
    "state": {},
    "version_major": 2,
    "version_minor": 0
   }
  }
 },
 "nbformat": 4,
 "nbformat_minor": 5
}
